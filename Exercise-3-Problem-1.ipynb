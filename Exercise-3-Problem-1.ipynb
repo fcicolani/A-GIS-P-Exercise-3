{
 "cells": [
  {
   "cell_type": "markdown",
   "metadata": {
    "deletable": false,
    "editable": false
   },
   "source": [
    "## Problem 1: Geocode shopping centers (5 points)\n",
    "\n",
    "The overall aim of problems 1-3 is to find out **how many people live within a walking distance (1.5 km) from certain shopping centres in Helsinki**.\n",
    "\n",
    "Problem 1 concerns the locations of shopping centres: find their addresses and translate them into coordinates.\n",
    "\n",
    "---"
   ]
  },
  {
   "cell_type": "markdown",
   "metadata": {
    "deletable": false,
    "editable": false,
    "tags": []
   },
   "source": [
    "### a) Prepare an input file containing the addresses of shopping centres (1 point)\n",
    "\n",
    "Find out the addresses of the following shopping centres (e.g., by using your favourite search engine), and collect them in a text file called `shopping_centres.txt`:\n",
    "\n",
    " - Itis\n",
    " - Forum\n",
    " - Iso-omena\n",
    " - Sello\n",
    " - Jumbo\n",
    " - REDI\n",
    " - Tripla \n",
    " \n",
    "The text file should be in semicolon-separated format (`;`) and include the following columns:\n",
    "\n",
    "- `id` (integer) a unique identifier for each shopping centre (a\n",
    "- `name` (string) of each shopping center\n",
    "- `addr` (string) the address \n",
    "\n",
    "\n",
    "See an example of how to format the text file [in the lesson 3 materials](https://autogis-site.readthedocs.io/en/latest/lessons/lesson-3/geocoding-in-geopandas.html). Remember to *add*, *commit*, and *push* the file to your git repository.\n",
    "\n",
    "---\n"
   ]
  },
  {
   "cell_type": "markdown",
   "metadata": {
    "deletable": false,
    "editable": false
   },
   "source": [
    "### b) Read the list of addresses (1 point)\n",
    "\n",
    "Read the list of addresses you just prepared into a `pandas.DataFrame` called `shopping_centres`"
   ]
  },
  {
   "cell_type": "code",
   "execution_count": 29,
   "metadata": {},
   "outputs": [],
   "source": [
    "# ADD YOUR OWN CODE HERE\n",
    "import pandas as pd\n",
    "import pathlib\n",
    "\n",
    "NOTEBOOK_DIR = pathlib.Path().resolve()\n",
    "DATA_DIR = NOTEBOOK_DIR / 'data'\n",
    "\n",
    "shopping_centres = pd.read_csv(DATA_DIR / 'shopping_centres.txt', sep = ';')"
   ]
  },
  {
   "cell_type": "code",
   "execution_count": 30,
   "metadata": {
    "deletable": false,
    "editable": false
   },
   "outputs": [],
   "source": [
    "# NON-EDITABLE CODE CELL FOR TESTING YOUR SOLUTION\n",
    "import pandas\n",
    "assert isinstance(shopping_centres, pandas.DataFrame)\n",
    "for column in (\"id\", \"name\", \"addr\"):\n",
    "    assert column in shopping_centres.columns"
   ]
  },
  {
   "cell_type": "markdown",
   "metadata": {
    "deletable": false,
    "editable": false
   },
   "source": [
    "\n",
    "---\n",
    "\n",
    "### c) Geocode the addresses (2 points)\n",
    "\n",
    "Geocode the addresses using the Nominatim geocoding service. Join the results with the input data, and store them in a `geopandas.GeoDataFrame` with the same name (`shopping_centres`). \n",
    "\n",
    "Remember to define a custom `user_agent` string!"
   ]
  },
  {
   "cell_type": "code",
   "execution_count": 31,
   "metadata": {},
   "outputs": [],
   "source": [
    "# ADD YOUR OWN CODE HERE\n",
    "import geopy\n",
    "import geopandas as gpd\n",
    "\n",
    "shopping_centres_geocoded = gpd.tools.geocode(shopping_centres['addr'],\n",
    "                                             provider = 'nominatim',\n",
    "                                             user_agent = 'geogis2023',\n",
    "                                             timeout = 10)\n"
   ]
  },
  {
   "cell_type": "code",
   "execution_count": 32,
   "metadata": {},
   "outputs": [],
   "source": [
    "joined_shopping_centres = shopping_centres_geocoded.join(shopping_centres)\n",
    "shopping_centres = joined_shopping_centres[['id', 'name', 'addr', 'geometry']]"
   ]
  },
  {
   "cell_type": "code",
   "execution_count": 33,
   "metadata": {},
   "outputs": [],
   "source": [
    "shopping_centres = shopping_centres.copy()"
   ]
  },
  {
   "cell_type": "code",
   "execution_count": 35,
   "metadata": {
    "deletable": false,
    "editable": false
   },
   "outputs": [],
   "source": [
    "# NON-EDITABLE CODE CELL FOR TESTING YOUR SOLUTION\n",
    "import geopandas\n",
    "assert isinstance(shopping_centres, geopandas.GeoDataFrame)\n",
    "for column in (\"id\", \"name\", \"addr\", \"geometry\"):\n",
    "    assert column in shopping_centres.columns"
   ]
  },
  {
   "cell_type": "markdown",
   "metadata": {
    "deletable": false,
    "editable": false
   },
   "source": [
    "Check that the coordinate reference system of the geocoded result is correctly defined, and **reproject the layer into ETRS GK-25** (EPSG:3879):"
   ]
  },
  {
   "cell_type": "code",
   "execution_count": 36,
   "metadata": {},
   "outputs": [],
   "source": [
    "# ADD YOUR OWN CODE HERE\n",
    "assert shopping_centres.crs != None, \"CRS not defined!\""
   ]
  },
  {
   "cell_type": "code",
   "execution_count": 37,
   "metadata": {},
   "outputs": [],
   "source": [
    "shopping_centres.to_crs(\"EPSG:3879\", inplace = True)"
   ]
  },
  {
   "cell_type": "code",
   "execution_count": 39,
   "metadata": {
    "deletable": false,
    "editable": false
   },
   "outputs": [],
   "source": [
    "# NON-EDITABLE CODE CELL FOR TESTING YOUR SOLUTION\n",
    "import pyproj\n",
    "assert shopping_centres.crs == pyproj.CRS(\"EPSG:3879\")"
   ]
  },
  {
   "cell_type": "markdown",
   "metadata": {
    "deletable": false,
    "editable": false
   },
   "source": [
    "\n",
    "---\n",
    "\n",
    "### d) Save the resulting vector data set (1 point)\n",
    "\n",
    "Save `shopping_centres` as a *GeoPackage* named `shopping_centres.gpkg`:"
   ]
  },
  {
   "cell_type": "code",
   "execution_count": 40,
   "metadata": {},
   "outputs": [],
   "source": [
    "# ADD YOUR OWN CODE HERE\n",
    "shopping_centres.to_file(DATA_DIR / 'shopping_centres.gpkg')"
   ]
  },
  {
   "cell_type": "markdown",
   "metadata": {
    "deletable": false,
    "editable": false
   },
   "source": [
    "\n",
    "---\n",
    "\n",
    "Well done! Now you can continue to [problem 2](Exercise-3-Problem-2.ipynb)"
   ]
  }
 ],
 "metadata": {
  "anaconda-cloud": {},
  "kernelspec": {
   "display_name": "Python 3 (ipykernel)",
   "language": "python",
   "name": "python3"
  },
  "language_info": {
   "codemirror_mode": {
    "name": "ipython",
    "version": 3
   },
   "file_extension": ".py",
   "mimetype": "text/x-python",
   "name": "python",
   "nbconvert_exporter": "python",
   "pygments_lexer": "ipython3",
   "version": "3.12.0"
  }
 },
 "nbformat": 4,
 "nbformat_minor": 4
}
